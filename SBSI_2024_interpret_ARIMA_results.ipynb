{
  "nbformat": 4,
  "nbformat_minor": 0,
  "metadata": {
    "colab": {
      "provenance": [],
      "authorship_tag": "ABX9TyMECr3vAkgZPtpOTfwkJCot",
      "include_colab_link": true
    },
    "kernelspec": {
      "name": "python3",
      "display_name": "Python 3"
    },
    "language_info": {
      "name": "python"
    }
  },
  "cells": [
    {
      "cell_type": "markdown",
      "metadata": {
        "id": "view-in-github",
        "colab_type": "text"
      },
      "source": [
        "<a href=\"https://colab.research.google.com/github/Rogerio-mack/SBSI_2024_ts_short_course/blob/main/SBSI_2024_interpret_ARIMA_results.ipynb\" target=\"_parent\"><img src=\"https://colab.research.google.com/assets/colab-badge.svg\" alt=\"Open In Colab\"/></a>"
      ]
    },
    {
      "cell_type": "markdown",
      "source": [
        "<img src='https://github.com/Rogerio-mack/work/blob/main/figuras/logo_sbc.png?raw=true' width=250, align=\"right\">"
      ],
      "metadata": {
        "id": "ij6H_0wcr1ro"
      }
    },
    {
      "cell_type": "markdown",
      "source": [
        "# Interpretando os resultados do statsmodel ARIMA\n"
      ],
      "metadata": {
        "id": "coVNKP3jtqhk"
      }
    },
    {
      "cell_type": "markdown",
      "source": [
        "https://analyzingalpha.com/interpret-arima-results\n",
        "\n",
        "https://mattsosna.com/ARIMA-deep-dive/"
      ],
      "metadata": {
        "id": "hX37LpOamYYl"
      }
    },
    {
      "cell_type": "markdown",
      "source": [
        "Para analisar os resultados ARIMA, é necessário determinar se o modelo atende às suposições usando estatísticas qui-quadrado Jlung-Box e autocorrelação de resíduos; entenda se cada termo é significativo usando valores p e reconheça se seu modelo se ajusta bem usando o erro quadrático médio.\n",
        "\n",
        "Compreendendo os resultados ARIMA\n",
        "Depois de criar um modelo autorregressivo , verifique os resultados para ver se o seu modelo faz sentido e seu desempenho. Usar statsmodels ou qualquer outra biblioteca imprimirá algo como o abaixo.\n",
        "\n",
        "A melhor maneira de entender é pelo exemplo. Analisaremos os resultados de um modelo AR simples tentando prever os resultados futuros do Bitcoin usando estas etapas:\n",
        "\n",
        "Revise as informações gerais\n",
        "Determinar o significado do termo\n",
        "Analise as suposições do modelo\n",
        "Compare modelos e melhore o ajuste\n",
        "Analisaremos cada item de linha em cada etapa para que você tenha uma compreensão clara de seus resultados.\n",
        "\n",
        "1. Revise as informações gerais\n",
        "A primeira coisa que você deseja fazer é revisar as informações gerais.\n",
        "\n",
        "\n",
        "Além disso, statsmodels usa o mesmo módulo para todos os modelos autoregressivos, portanto, o cabeçalho exibe resultados SARIMAX quando seu modelo pode ser apenas uma autorregressão vanilla.\n",
        "\n",
        "SARIMAX significa Média Móvel Integrada AutoRegressiva Sazonal com regressores eXógenos.\n",
        "\n",
        "As informações básicas são bastante autoexplicativas:\n",
        "\n",
        "Dep. Variável – O que estamos tentando prever.\n",
        "Modelo – O tipo de modelo que estamos usando. AR, MA, ARIMA.\n",
        "Data – A data em que executamos o modelo\n",
        "Hora – A hora em que o modelo terminou\n",
        "Amostra – O intervalo dos dados\n",
        "Nº Observações – O número de observações\n",
        "A variável dependente é o fechamento que estamos tentando prever. As variáveis ​​independentes são o beta constante. O termo de erro é sigma2 ou épsilon em nossa equação acima. Nossas variáveis ​​de atraso são ar.L1, ar.L2 e ar.L3.\n",
        "\n",
        "Depois de verificar que não cometemos nenhum erro básico com nosso modelo, podemos passar para a próxima etapa e analisar a significância do termo.\n",
        "\n",
        "2. Determine a significância do termo\n",
        "Queremos ter certeza de que cada termo em nosso modelo é estatisticamente significativo. O nulo para esta seção é que cada coeficiente NÃO é estatisticamente significativo. Portanto, queremos que cada termo tenha um valor p inferior a 0,05, para que possamos rejeitar a hipótese nula com valores estatisticamente significativos.\n",
        "\n",
        "\n",
        "No nosso exemplo, Ll e L2 não são estatisticamente significativos, pois os seus valores de p estão acima do limite de 0,05.\n",
        "\n",
        "3. Revise as suposições\n",
        "A seguir, queremos ter certeza de que nosso modelo atende à suposição de que os resíduos são independentes, conhecido como  ruído branco .\n",
        "\n",
        "Se os resíduos não forem independentes, podemos extrair a não aleatoriedade para fazer um modelo melhor.\n",
        "\n",
        "\n",
        "Caixa Ljung\n",
        "O teste Ljung Box, pronunciado “Young” e às vezes chamado de teste Box-Pierce modificado, testa se os erros são ruído branco.\n",
        "\n",
        "O Ljung-Box (L1) (Q) é a estatística de teste LBQ no atraso 1, o Prob(Q) é 0,01 e o valor p é 0,94. Como a probabilidade está acima de 0,05, não podemos rejeitar o nulo de que os erros são ruído branco.\n",
        "\n",
        "Se estiver interessado em ver todas as estatísticas de teste Ljung-Box e valores p para as defasagens, você pode usar uma função de diagnóstico Ljung-Box.\n",
        "\n",
        "from statsmodels.stats.diagnostic import acorr_ljungbox\n",
        "mod = ARIMA(endog=train, order=order)\n",
        "res = mod.fit()\n",
        "jlung = acorr_ljungbox(res.resid)\n",
        "\n",
        "Heterocedasticidade\n",
        "A heterocedasticidade testa se os resíduos de erro são homocedásticos ou têm a mesma variância. O resumo realiza o teste de White. Nossas estatísticas resumidas mostram uma estatística de teste de 1,64 e um valor p de 0,00, o que significa que rejeitamos a hipótese nula e nossos resíduos mostram variância.\n",
        "\n",
        "Essa variação apresenta problemas de previsão e, se você não sabe por quê, este vídeo é uma excelente atualização sobre o assunto.\n",
        "\n",
        "O que é heterocedasticidade?\n",
        "Jarque-Bera\n",
        "Jarque-Bera testa a normalidade dos erros. Ele testa o nulo de que os dados são normalmente distribuídos em relação a uma alternativa de outra distribuição. Vemos uma estatística de teste de 4.535,14 com probabilidade 0, o que significa que rejeitamos a hipótese nula e os dados não são normalmente distribuídos. Além disso, como parte do teste Jarque-Bera, vemos que a distribuição apresenta uma ligeira distorção negativa e uma grande curtose.\n",
        "\n",
        "4. Análise de ajuste\n",
        "O Log-Likelihood, AIC, BIC e HQIC ajudam a comparar um modelo com outro.\n",
        "\n",
        "\n",
        "Log probabilidade\n",
        "A função log-verossimilhança identifica uma distribuição que melhor se ajusta aos dados amostrados. Embora seja útil, o AIC e o BIC punem o modelo pela complexidade, o que ajuda a tornar nosso  modelo ARIMA parcimonioso .\n",
        "\n",
        "Máxima Verossimilhança para a Distribuição Normal, passo a passo!!!\n",
        "Critério de informação de Akaike\n",
        "O Critério de Informação (AIC) de Akaike ajuda a determinar a força do modelo de regressão linear. A AIC penaliza um modelo por adicionar parâmetros, pois adicionar mais parâmetros sempre aumentará o valor de máxima verossimilhança.\n",
        "\n",
        "Critério de Informação Bayesiano\n",
        "O Critério de Informação Bayesiano (BIC), assim como o AIC, também pune um modelo pela complexidade, mas também incorpora o número de linhas nos dados.\n",
        "\n",
        "Critério de informação de Hannan-Quinn\n",
        "O Critério de Informação de Hannan-Quinn (HQIC), assim como AIC e BIC, é outro critério para seleção de modelo; no entanto, não é  usado com tanta frequência na prática .\n",
        "\n",
        "O resultado final\n",
        "É essencial entender como analisar os resultados do ARIMA. Nesta postagem, você aprendeu primeiro a examinar as informações gerais, revisar a significância dos coeficientes, entender como determinar se nossos resultados atendem às premissas do modelo e, em seguida, comparar vários modelos."
      ],
      "metadata": {
        "id": "ybPg8n4pktmR"
      }
    }
  ]
}